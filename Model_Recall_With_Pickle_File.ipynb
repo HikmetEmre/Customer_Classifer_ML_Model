{
 "cells": [
  {
   "cell_type": "code",
   "execution_count": 19,
   "id": "41ee2957",
   "metadata": {},
   "outputs": [
    {
     "name": "stdout",
     "output_type": "stream",
     "text": [
      "['Low Profile' 'Medium Profile' 'Low Profile']\n"
     ]
    }
   ],
   "source": [
    "import pickle\n",
    "from sklearn.preprocessing import StandardScaler\n",
    "\n",
    "# Load the model from the pickle file\n",
    "with open('random_forest_model.pkl', 'rb') as f:\n",
    "    rf = pickle.load(f)\n",
    "\n",
    "# Make predictions on new data\n",
    "new_data = [[300, 10, 1000], [200, 40, 550000], [150, 2, 3000]]\n",
    "# Scale the new data\n",
    "scaler = StandardScaler()\n",
    "new_data_scaled = scaler.fit_transform(new_data)\n",
    "#### Make Predictions ###\n",
    "predictions = rf.predict(new_data_scaled)\n",
    "print(predictions)\n"
   ]
  },
  {
   "cell_type": "code",
   "execution_count": null,
   "id": "6346c6e1",
   "metadata": {},
   "outputs": [],
   "source": []
  }
 ],
 "metadata": {
  "kernelspec": {
   "display_name": "Python 3 (ipykernel)",
   "language": "python",
   "name": "python3"
  },
  "language_info": {
   "codemirror_mode": {
    "name": "ipython",
    "version": 3
   },
   "file_extension": ".py",
   "mimetype": "text/x-python",
   "name": "python",
   "nbconvert_exporter": "python",
   "pygments_lexer": "ipython3",
   "version": "3.10.6"
  }
 },
 "nbformat": 4,
 "nbformat_minor": 5
}
